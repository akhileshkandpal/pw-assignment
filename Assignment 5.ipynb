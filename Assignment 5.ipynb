{
 "cells": [
  {
   "cell_type": "code",
   "execution_count": 13,
   "id": "f8b39756",
   "metadata": {},
   "outputs": [
    {
     "name": "stdout",
     "output_type": "stream",
     "text": [
      "brezza 170 15\n"
     ]
    }
   ],
   "source": [
    "\"\"\"\n",
    "Q1, Create a vehicle class with an init method having instance variables as name_of_vehicle, max_speed\n",
    "and average_of_vehicle.\n",
    "\"\"\"\n",
    "\n",
    "#Ans - \n",
    "class vehicle:\n",
    "    def __init__(self,name_of_vehicle, max_speed, average_of_vehicle):\n",
    "        self.name = name_of_vehicle\n",
    "        self.max_speed  =max_speed\n",
    "        self.avg = average_of_vehicle\n",
    "    def print_obj(self):\n",
    "        print(self.name, self.max_speed, self.avg)\n",
    "\n",
    "brezza = vehicle(\"brezza\", 170, 15)\n",
    "brezza.print_obj()"
   ]
  },
  {
   "cell_type": "code",
   "execution_count": 26,
   "id": "2bb412fd",
   "metadata": {},
   "outputs": [
    {
     "data": {
      "text/plain": [
       "('brezza', 5)"
      ]
     },
     "execution_count": 26,
     "metadata": {},
     "output_type": "execute_result"
    }
   ],
   "source": [
    "\"\"\"\n",
    "Q2. Create a child class car from the vehicle class created in Que 1, which will inherit the vehicle class.\n",
    "Create a method named seating_capacity which takes capacity as an argument and returns the name of\n",
    "the vehicle and its seating capacity.\n",
    "\"\"\"\n",
    "\n",
    "#Ans - \n",
    "class car(vehicle):\n",
    "    def seating_capacity(self,capacity):\n",
    "        self.capacity = capacity\n",
    "        return (self.name, self.capacity)\n",
    "\n",
    "brezza_car = car(\"brezza\", 170, 15)\n",
    "brezza_car.seating_capacity(5)\n"
   ]
  },
  {
   "cell_type": "code",
   "execution_count": 45,
   "id": "6c3c8b1b",
   "metadata": {},
   "outputs": [
    {
     "name": "stdout",
     "output_type": "stream",
     "text": [
      "Contry - India\n",
      "State - Maharashtra\n",
      "City - Mumbai\n"
     ]
    }
   ],
   "source": [
    "\"\"\"\n",
    "Q3. What is multiple inheritance? Write a python code to demonstrate multiple inheritance.\n",
    "\"\"\"\n",
    "\n",
    "#Ans - in python onheritance refers to the ability of one class inheriting the properties/functions dfined in another class (more than one class). E.g.\n",
    "\n",
    "class country:\n",
    "    def __init__(self, country_name):\n",
    "        self.country_name = country_name\n",
    "        \n",
    "class state(country):\n",
    "    def __init__(self, country_name, state_name):\n",
    "        country.__init__(self, country_name)\n",
    "        self.state_name = state_name\n",
    "class city(state):\n",
    "    def __init__(self, country_name, state_name, city_name):\n",
    "        state.__init__(self, country_name, state_name)\n",
    "        self.city_name = city_name\n",
    "\n",
    "mumbai = city(\"India\", \"Maharashtra\",\"Mumbai\")\n",
    "print(\"Contry - \" + mumbai.country_name +\"\\nState - \" + mumbai.state_name + \"\\nCity - \" + mumbai.city_name)\n"
   ]
  },
  {
   "cell_type": "code",
   "execution_count": 58,
   "id": "31b1abe8",
   "metadata": {},
   "outputs": [
    {
     "name": "stdout",
     "output_type": "stream",
     "text": [
      "0\n",
      "50\n",
      "100\n"
     ]
    }
   ],
   "source": [
    "\"\"\"\n",
    "Q4. What are getter and setter in python? Create a class and create a getter and a setter method in this\n",
    "class.\n",
    "\"\"\"\n",
    "#Ans - \n",
    "\"\"\"\n",
    "Getter and Setter are class functions. \n",
    "Setter is used to set a value of any preoperty of class weareas the getter is used to retrieve proprties of that class.\n",
    "These are normall used when users are not given access properties directly visually.\n",
    "\"\"\"\n",
    "\n",
    "class marks:\n",
    "    def __init__(self):\n",
    "        self._marks = 0\n",
    "    \n",
    "    def set_marks(self,m):\n",
    "        self._marks = m\n",
    "    def get_marks(self):\n",
    "        return self._marks\n",
    "a = marks()\n",
    "print(a.get_marks())\n",
    "a.set_marks(50)\n",
    "print(a.get_marks())\n",
    "a.set_marks(100)\n",
    "print(a.get_marks())"
   ]
  },
  {
   "cell_type": "code",
   "execution_count": 60,
   "id": "67267813",
   "metadata": {},
   "outputs": [
    {
     "name": "stdout",
     "output_type": "stream",
     "text": [
      "This is child class\n"
     ]
    }
   ],
   "source": [
    "\"\"\"\n",
    "Q5.What is method overriding in python? Write a python code to demonstrate method overriding.\n",
    "\"\"\"\n",
    "\n",
    "#Ans - Thorugh overriding function defined in child class will override any function defined in parent class with same name.\n",
    "\n",
    "class parent:\n",
    "    def name(self):\n",
    "        print(\"This is parent class\")\n",
    "        \n",
    "class child(parent):\n",
    "    def name(self):\n",
    "        print(\"This is child class\")\n",
    "        \n",
    "a = child()\n",
    "a.name()\n"
   ]
  },
  {
   "cell_type": "code",
   "execution_count": null,
   "id": "289a8c39",
   "metadata": {},
   "outputs": [],
   "source": []
  }
 ],
 "metadata": {
  "kernelspec": {
   "display_name": "Python 3 (ipykernel)",
   "language": "python",
   "name": "python3"
  },
  "language_info": {
   "codemirror_mode": {
    "name": "ipython",
    "version": 3
   },
   "file_extension": ".py",
   "mimetype": "text/x-python",
   "name": "python",
   "nbconvert_exporter": "python",
   "pygments_lexer": "ipython3",
   "version": "3.11.4"
  }
 },
 "nbformat": 4,
 "nbformat_minor": 5
}
