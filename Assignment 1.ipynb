{
 "cells": [
  {
   "cell_type": "code",
   "execution_count": 15,
   "id": "9cde0c40",
   "metadata": {},
   "outputs": [
    {
     "name": "stdout",
     "output_type": "stream",
     "text": [
      "<class 'str'>\n",
      "<class 'list'>\n",
      "<class 'float'>\n",
      "<class 'tuple'>\n"
     ]
    }
   ],
   "source": [
    "\"\"\"\n",
    "Q1. Create one variable containing following type of data: \n",
    "(i) string\n",
    "(ii) list\n",
    "(iii) float\n",
    "(iv) tuple\n",
    "\"\"\"\n",
    "#Ans:\n",
    "v_string = \"I am a string\"\n",
    "print(type(v_string))\n",
    "\n",
    "v_list = [\"akhilesh\", 1990, [\"a\",\"b\",\"c\"], 2.90]\n",
    "print(type(v_list))\n",
    "\n",
    "v_float = 2.90\n",
    "print(type(v_float))\n",
    "\n",
    "v_tuple = (\"akhilesh\", 1990, [\"a\",\"b\",\"c\"], 2.90)\n",
    "print(type(v_tuple))"
   ]
  },
  {
   "cell_type": "code",
   "execution_count": 49,
   "id": "7e26da73",
   "metadata": {},
   "outputs": [
    {
     "name": "stdout",
     "output_type": "stream",
     "text": [
      "<class 'str'>\n",
      "<class 'str'>\n",
      "<class 'list'>\n",
      "<class 'int'>\n"
     ]
    },
    {
     "data": {
      "text/plain": [
       "'Ans- Variable var1 and var are string, var3 is a list and var4 is an integer'"
      ]
     },
     "execution_count": 49,
     "metadata": {},
     "output_type": "execute_result"
    }
   ],
   "source": [
    "\"\"\"\n",
    "Q2. Given are some following variables containing data:\n",
    "(i) var1 = ‘ ‘\n",
    "(ii) var2 = ‘[ DS , ML , Python]’\n",
    "(iii) var3 = [ ‘DS’ , ’ML’ , ‘Python’ ]\n",
    "(iv) var4 = 1.\n",
    "What will be the data type of the above given variable.\n",
    "\"\"\"\n",
    "#Ans:\n",
    "var1 = ' '\n",
    "var2 = '[ DS , ML , Python]'\n",
    "var3 = [ 'DS' , 'ML' , 'Python' ]\n",
    "var4 = 1\n",
    "\n",
    "print(type(var1))\n",
    "print(type(var2))\n",
    "print(type(var3))\n",
    "print(type(var4))\n",
    "\n",
    "\"\"\"Ans- Variable var1 and var are string, var3 is a list and var4 is an integer\"\"\"\n"
   ]
  },
  {
   "cell_type": "code",
   "execution_count": 1,
   "id": "2f2f1102",
   "metadata": {},
   "outputs": [
    {
     "name": "stdout",
     "output_type": "stream",
     "text": [
      "2.5\n",
      "2\n",
      "3\n",
      "8\n"
     ]
    }
   ],
   "source": [
    "\"\"\"\n",
    "Q3. Explain the use of the following operators using an example:\n",
    "(i) /\n",
    "(ii) %\n",
    "(iii) //\n",
    "(iv) **\n",
    "\"\"\"\n",
    "\n",
    "#Ans\n",
    "# Operator / is used to divide. Output will be floating point number\n",
    "\n",
    "print(5/2)\n",
    "\n",
    "# Operator % is used for getting remainder \n",
    "\n",
    "print(5%3)\n",
    "\n",
    "# Operator // is used to divide but output will be rounded down to integer\n",
    "\n",
    "print(11//3)\n",
    "\n",
    "# Operaotr ** is used to get power of first number to second\n",
    "print(2**3)"
   ]
  },
  {
   "cell_type": "code",
   "execution_count": 2,
   "id": "afe99cc0",
   "metadata": {},
   "outputs": [
    {
     "name": "stdout",
     "output_type": "stream",
     "text": [
      "1 : <class 'int'>\n",
      "two : <class 'str'>\n",
      "3.0 : <class 'float'>\n",
      "4 : <class 'int'>\n",
      "five : <class 'str'>\n",
      "6.0 : <class 'float'>\n",
      "7 : <class 'int'>\n",
      "eight : <class 'str'>\n",
      "9.0 : <class 'float'>\n",
      "10 : <class 'int'>\n"
     ]
    }
   ],
   "source": [
    "\"\"\"\n",
    "Q4. Create a list of length 10 of your choice containing multiple types of data. Using for loop print the\n",
    "element and its data type.\"\"\"\n",
    "#Ans:\n",
    "my_list = [1 , \"two\", 3.0, 4, \"five\", 6.0, 7, \"eight\", 9.0, 10]\n",
    "for i in my_list:\n",
    "    print(str(i) + \" : \" + str(type(i)))"
   ]
  },
  {
   "cell_type": "code",
   "execution_count": 5,
   "id": "9dff2c55",
   "metadata": {},
   "outputs": [
    {
     "name": "stdout",
     "output_type": "stream",
     "text": [
      "1 is not purely divisible by 2\n",
      "1.0\n",
      "3 is not purely divisible by 2\n",
      "2.0\n",
      "5 is not purely divisible by 2\n",
      "3.0\n",
      "7 is not purely divisible by 2\n",
      "4.0\n",
      "9 is not purely divisible by 2\n"
     ]
    }
   ],
   "source": [
    "\"\"\"\n",
    "Q5. Using a while loop, verify if the number A is purely divisible by number B and if so then how many\n",
    "times it can be divisible.\n",
    "\"\"\"\n",
    "#Ans:\n",
    "a = 1\n",
    "while a < 10:\n",
    "    if a % 2 == 0:\n",
    "        print(a/2)\n",
    "    else:\n",
    "        print(str(a) + \" is not purely divisible by 2\")\n",
    "    a+=1\n",
    "    "
   ]
  },
  {
   "cell_type": "code",
   "execution_count": 14,
   "id": "4d8fe413",
   "metadata": {},
   "outputs": [
    {
     "name": "stdout",
     "output_type": "stream",
     "text": [
      "1 is not purely divisible by 3\n",
      "2 is not purely divisible by 3\n",
      "3 is purely divisible by 3: Result - 1\n",
      "4 is not purely divisible by 3\n",
      "5 is not purely divisible by 3\n",
      "6 is purely divisible by 3: Result - 2\n",
      "7 is not purely divisible by 3\n",
      "8 is not purely divisible by 3\n",
      "9 is purely divisible by 3: Result - 3\n",
      "10 is not purely divisible by 3\n",
      "11 is not purely divisible by 3\n",
      "12 is purely divisible by 3: Result - 4\n",
      "13 is not purely divisible by 3\n",
      "14 is not purely divisible by 3\n",
      "15 is purely divisible by 3: Result - 5\n",
      "16 is not purely divisible by 3\n",
      "17 is not purely divisible by 3\n",
      "18 is purely divisible by 3: Result - 6\n",
      "19 is not purely divisible by 3\n",
      "20 is not purely divisible by 3\n",
      "21 is purely divisible by 3: Result - 7\n",
      "22 is not purely divisible by 3\n",
      "23 is not purely divisible by 3\n",
      "24 is purely divisible by 3: Result - 8\n",
      "25 is not purely divisible by 3\n"
     ]
    }
   ],
   "source": [
    "\"\"\"\n",
    "Q6. Create a list containing 25 int type data. Using for loop and if-else condition print if the element is\n",
    "divisible by 3 or not.\n",
    "\"\"\"\n",
    "#Ans:\n",
    "my_list = list(range(1,26))\n",
    "for i in my_list:\n",
    "    if i%3 == 0:\n",
    "        print(str(i) + \" is purely divisible by 3: Result - \" + str(int(i/3)))\n",
    "    else:\n",
    "        print(str(i) + \" is not purely divisible by 3\")"
   ]
  },
  {
   "cell_type": "code",
   "execution_count": 22,
   "id": "0d9e51c0",
   "metadata": {},
   "outputs": [
    {
     "name": "stdout",
     "output_type": "stream",
     "text": [
      "[3, 8, 6, 7]\n",
      "h\n"
     ]
    },
    {
     "ename": "NameError",
     "evalue": "name 'b' is not defined",
     "output_type": "error",
     "traceback": [
      "\u001b[1;31m---------------------------------------------------------------------------\u001b[0m",
      "\u001b[1;31mNameError\u001b[0m                                 Traceback (most recent call last)",
      "Cell \u001b[1;32mIn[22], line 17\u001b[0m\n\u001b[0;32m     15\u001b[0m my_string \u001b[38;5;241m=\u001b[39m \u001b[38;5;124m\"\u001b[39m\u001b[38;5;124mAkhilesh\u001b[39m\u001b[38;5;124m\"\u001b[39m\n\u001b[0;32m     16\u001b[0m \u001b[38;5;28mprint\u001b[39m(my_string[\u001b[38;5;241m2\u001b[39m])\n\u001b[1;32m---> 17\u001b[0m my_string[\u001b[38;5;241m2\u001b[39m]  \u001b[38;5;241m=\u001b[39m\u001b[43mb\u001b[49m\n\u001b[0;32m     19\u001b[0m \u001b[38;5;66;03m# this will throw error as string is immutable data type\u001b[39;00m\n",
      "\u001b[1;31mNameError\u001b[0m: name 'b' is not defined"
     ]
    }
   ],
   "source": [
    "\"\"\"\n",
    "Q7. What do you understand about mutable and immutable data types? Give examples for both showing\n",
    "this property.\n",
    "\"\"\"\n",
    "#Ans:\n",
    "#Mutable data types are the data types where values of a variabke with that data type can be changed without changing its location/without reassigning value to variable. e.g.\n",
    "\n",
    "my_list = [3, 5, 6,7]\n",
    "my_list[1] = 8\n",
    "print(my_list)\n",
    "# list values are changed as list is a mutable data type\n",
    "\n",
    "#On the other hand immutable data type are the data types where values of a variable with that data type can not be changed without changing its location/without reassigning value to variable. e.g.\n",
    "\n",
    "my_string = \"Akhilesh\"\n",
    "print(my_string[2])\n",
    "my_string[2]  =b\n",
    "\n",
    "# this will throw error as string is immutable data type"
   ]
  },
  {
   "cell_type": "code",
   "execution_count": null,
   "id": "975d3362",
   "metadata": {},
   "outputs": [],
   "source": []
  }
 ],
 "metadata": {
  "kernelspec": {
   "display_name": "Python 3 (ipykernel)",
   "language": "python",
   "name": "python3"
  },
  "language_info": {
   "codemirror_mode": {
    "name": "ipython",
    "version": 3
   },
   "file_extension": ".py",
   "mimetype": "text/x-python",
   "name": "python",
   "nbconvert_exporter": "python",
   "pygments_lexer": "ipython3",
   "version": "3.11.4"
  }
 },
 "nbformat": 4,
 "nbformat_minor": 5
}
