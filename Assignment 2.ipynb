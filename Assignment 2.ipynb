{
 "cells": [
  {
   "cell_type": "code",
   "execution_count": 3,
   "id": "1ccc9163",
   "metadata": {},
   "outputs": [
    {
     "data": {
      "text/plain": [
       "'\\nMultiple line comments can be used by wraping the text between three double quotes\\n'"
      ]
     },
     "execution_count": 3,
     "metadata": {},
     "output_type": "execute_result"
    }
   ],
   "source": [
    "\"\"\"\n",
    "Q1. How do you comment code in Python? What are the different types of comments?\n",
    "\"\"\"\n",
    "\n",
    "#Ans-\n",
    "\n",
    "#Single line commnts can be put by starting line with # like this one\n",
    "\n",
    "'Single line comments can also be put by wraping text betwwen single quotes like this one'\n",
    "\n",
    "\"\"\"\n",
    "Multiple line comments can be used by wraping the text between three double quotes\n",
    "\"\"\""
   ]
  },
  {
   "cell_type": "code",
   "execution_count": 6,
   "id": "7ae60216",
   "metadata": {},
   "outputs": [],
   "source": [
    "\"\"\" \n",
    "Q2. What are variables in Python? How do you declare and assign values to variables?\n",
    "\"\"\"\n",
    "\n",
    "#Ans-Variable in python are use to store or assign values which can be used further in different operation. Values are assigned as below\n",
    "\n",
    "a = 4"
   ]
  },
  {
   "cell_type": "code",
   "execution_count": 13,
   "id": "3695a353",
   "metadata": {},
   "outputs": [
    {
     "name": "stdout",
     "output_type": "stream",
     "text": [
      "<class 'str'>\n",
      "['1', '0', '2', '3', '6', '7']\n",
      "<class 'list'>\n"
     ]
    }
   ],
   "source": [
    "\"\"\"\n",
    "Q3. How do you convert one data type to another in Python?\n",
    "\"\"\"\n",
    "\n",
    "#Ans - Convrting data type can be done using in-built functions in python. Some examples are below-\n",
    "\n",
    "int_a = 102367\n",
    "str_a = str(int_a)\n",
    "print(type(str_a))\n",
    "\n",
    "list_a = list(str_a)\n",
    "print(list_a)\n",
    "print(type(list_a))\n"
   ]
  },
  {
   "cell_type": "code",
   "execution_count": 1,
   "id": "4936c823",
   "metadata": {},
   "outputs": [
    {
     "data": {
      "text/plain": [
       "' \\nQ4. How do you write and execute a Python script from the command line?\\n'"
      ]
     },
     "execution_count": 1,
     "metadata": {},
     "output_type": "execute_result"
    }
   ],
   "source": [
    "\"\"\" \n",
    "Q4. How do you write and execute a Python script from the command line?\n",
    "\"\"\"\n",
    "\n",
    "#Ans - Open command line and write python3 \"path_of_python_script\""
   ]
  },
  {
   "cell_type": "code",
   "execution_count": 3,
   "id": "4600d67c",
   "metadata": {},
   "outputs": [
    {
     "name": "stdout",
     "output_type": "stream",
     "text": [
      "[2, 3]\n"
     ]
    }
   ],
   "source": [
    "\"\"\"\n",
    "Q5. Given a list my_list = [1, 2, 3, 4, 5], write the code to slice the list and obtain the sub-list [2, 3].\n",
    "\"\"\"\n",
    "#Ans-\n",
    "my_list = [1,2,3,4,5]\n",
    "print(my_list[1:3])"
   ]
  },
  {
   "cell_type": "code",
   "execution_count": 8,
   "id": "9a7853cd",
   "metadata": {},
   "outputs": [],
   "source": [
    "\"\"\"\n",
    "Q6. What is a complex number in mathematics, and how is it represented in Python?\n",
    "\"\"\"\n",
    "#Ans - Complex numbers are represented in a+bi form where a and b are real number and i is an imaginary number. In python it can be written by putting j as imaginary number\n",
    "\n",
    "a = 2 + 7j"
   ]
  },
  {
   "cell_type": "code",
   "execution_count": 10,
   "id": "34a413a9",
   "metadata": {},
   "outputs": [],
   "source": [
    "\"\"\"\n",
    "Q7. What is the correct way to declare a variable named age and assign the value 25 to it?\n",
    "\"\"\"\n",
    "#Ans- \n",
    "\n",
    "age = 25"
   ]
  },
  {
   "cell_type": "code",
   "execution_count": 12,
   "id": "7609a6e2",
   "metadata": {},
   "outputs": [
    {
     "name": "stdout",
     "output_type": "stream",
     "text": [
      "<class 'float'>\n"
     ]
    }
   ],
   "source": [
    "\"\"\"\n",
    "Q8. Declare a variable named price and assign the value 9.99 to it. What data type does this variable\n",
    "belong to?\n",
    "\"\"\"\n",
    "#Ans-\n",
    "\n",
    "price = 9.99\n",
    "print(type(price))\n",
    "\n",
    "#it is a float type"
   ]
  },
  {
   "cell_type": "code",
   "execution_count": 16,
   "id": "9d1e4a6e",
   "metadata": {},
   "outputs": [
    {
     "name": "stdout",
     "output_type": "stream",
     "text": [
      "Akhilesh Kumar Kandpal\n"
     ]
    }
   ],
   "source": [
    "\"\"\"\n",
    "Q9. Create a variable named name and assign your full name to it as a string. How would you print the\n",
    "value of this variable?\n",
    "\"\"\"\n",
    "\n",
    "#Ans-\n",
    "\n",
    "name = \"Akhilesh Kumar Kandpal\"\n",
    "print(name)"
   ]
  },
  {
   "cell_type": "code",
   "execution_count": 25,
   "id": "b4a30589",
   "metadata": {},
   "outputs": [
    {
     "name": "stdout",
     "output_type": "stream",
     "text": [
      "World\n"
     ]
    }
   ],
   "source": [
    "\"\"\"\n",
    "Q10. Given the string \"Hello, World!\", extract the substring \"World\".\n",
    "\"\"\"\n",
    "#Ans-\n",
    "my_str = \"Hello World!\"\n",
    "\n",
    "print(my_str[-6:-1])"
   ]
  },
  {
   "cell_type": "code",
   "execution_count": 31,
   "id": "2a3812ac",
   "metadata": {},
   "outputs": [
    {
     "name": "stdout",
     "output_type": "stream",
     "text": [
      "I am a student\n"
     ]
    }
   ],
   "source": [
    "\"\"\"\n",
    "Q11. Create a variable named \"is_student\" and assign it a boolean value indicating whether you are\n",
    "currently a student or not.\n",
    "\"\"\"\n",
    "is_student = 1.0\n",
    "\n",
    "#test-\n",
    "if is_student:\n",
    "    print(\"I am a student\")\n",
    "else:\n",
    "    print(\"I am not a student\")"
   ]
  },
  {
   "cell_type": "code",
   "execution_count": null,
   "id": "8ce6c247",
   "metadata": {},
   "outputs": [],
   "source": []
  }
 ],
 "metadata": {
  "kernelspec": {
   "display_name": "Python 3 (ipykernel)",
   "language": "python",
   "name": "python3"
  },
  "language_info": {
   "codemirror_mode": {
    "name": "ipython",
    "version": 3
   },
   "file_extension": ".py",
   "mimetype": "text/x-python",
   "name": "python",
   "nbconvert_exporter": "python",
   "pygments_lexer": "ipython3",
   "version": "3.11.4"
  }
 },
 "nbformat": 4,
 "nbformat_minor": 5
}
