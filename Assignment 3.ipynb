{
 "cells": [
  {
   "cell_type": "code",
   "execution_count": 4,
   "id": "0a12cc8a",
   "metadata": {},
   "outputs": [
    {
     "data": {
      "text/plain": [
       "[1, 3, 5, 7, 9, 11, 13, 15, 17, 19, 21, 23, 25]"
      ]
     },
     "execution_count": 4,
     "metadata": {},
     "output_type": "execute_result"
    }
   ],
   "source": [
    "\"\"\"\n",
    "Q1. Which keyword is used to create a function? Create a function to return a list of odd numbers in the\n",
    "range of 1 to 25.\n",
    "\"\"\"\n",
    "#Ans- def is used to create a function in python\n",
    "\n",
    "def odd_list():\n",
    "    o_list = []\n",
    "    for i in range(1,26):\n",
    "        if i % 2 == 1:\n",
    "            o_list.append(i)\n",
    "    return o_list\n",
    "\n",
    "#testing-\n",
    "\n",
    "odd_list()\n"
   ]
  },
  {
   "cell_type": "code",
   "execution_count": 12,
   "id": "ccf06444",
   "metadata": {},
   "outputs": [
    {
     "name": "stdout",
     "output_type": "stream",
     "text": [
      "name - Akhilesh Kumar Kandpal\n",
      "age - 32\n",
      "mobile - 1234567890\n"
     ]
    }
   ],
   "source": [
    "\"\"\"\n",
    "Q2. Why *args and **kwargs is used in some functions? Create a function each for *args and **kwargs\n",
    "to demonstrate their use.\n",
    "\"\"\"\n",
    "\n",
    "#Ans - \n",
    "#*args is used where number of inputs are unknown. e.g.\n",
    "\n",
    "def sum_num(*args):\n",
    "    a = 0\n",
    "    for i in args:\n",
    "        a += i\n",
    "    return a\n",
    "\n",
    "sum_args(1,4,2,5)\n",
    "    \n",
    "#**kwargs is similar to *args but input can be given n number of times but with key, value pair. e.g.\n",
    "\n",
    "def print_details(**kwargs):\n",
    "    for k, v in kwargs.items():\n",
    "        print(k + \" - \" + str(v))\n",
    "print_details(name=\"Akhilesh Kumar Kandpal\", age=32, mobile=1234567890)\n",
    "\n"
   ]
  },
  {
   "cell_type": "code",
   "execution_count": 19,
   "id": "cba36fb2",
   "metadata": {},
   "outputs": [
    {
     "name": "stdout",
     "output_type": "stream",
     "text": [
      "2\n",
      "4\n",
      "6\n",
      "8\n",
      "10\n"
     ]
    }
   ],
   "source": [
    "\"\"\"\n",
    "Q3. What is an iterator in python? Name the method used to initialise the iterator object and the method\n",
    "used for iteration. Use these methods to print the first five elements of the given list [2, 4, 6, 8, 10, 12, 14,\n",
    "16, 18, 20].\n",
    "\"\"\"\n",
    "\n",
    "#Ans- iterator is an object on which you can iterate upon. \n",
    "my_list = [2, 4, 6, 8, 10, 12, 14, 16, 18, 20]\n",
    "a = iter(my_list)\n",
    "\n",
    "for i in range(5):\n",
    "    print (next(a))"
   ]
  },
  {
   "cell_type": "code",
   "execution_count": 23,
   "id": "781036c4",
   "metadata": {},
   "outputs": [
    {
     "name": "stdout",
     "output_type": "stream",
     "text": [
      "1\n",
      "4\n",
      "9\n",
      "16\n",
      "25\n"
     ]
    }
   ],
   "source": [
    "\"\"\"\n",
    "Q4. What is a generator function in python? Why yield keyword is used? Give an example of a generator\n",
    "function.\n",
    "\"\"\"\n",
    "\n",
    "#Ans- Generator function is used to generate items in an iterable object one by one without geneating whole array in once to achieve efficiency in terms of mamory usage.\n",
    "\n",
    "def gen_sqr(n):\n",
    "    for i in range(1, n+1):\n",
    "        yield i * i\n",
    "        \n",
    "y = gen_sqr(5)\n",
    "for i in range(1, 6):\n",
    "    print(next(y))"
   ]
  },
  {
   "cell_type": "code",
   "execution_count": 66,
   "id": "9c94c9b8",
   "metadata": {},
   "outputs": [
    {
     "name": "stdout",
     "output_type": "stream",
     "text": [
      "2\n",
      "3\n",
      "5\n",
      "7\n",
      "11\n",
      "13\n",
      "17\n",
      "19\n",
      "23\n",
      "29\n",
      "31\n",
      "37\n",
      "41\n",
      "43\n",
      "47\n",
      "53\n",
      "59\n",
      "61\n",
      "67\n",
      "71\n"
     ]
    }
   ],
   "source": [
    "\"\"\"\n",
    "Q5. Create a generator function for prime numbers less than 1000. Use the next() method to print the\n",
    "first 20 prime numbers.\n",
    "\"\"\"\n",
    "\n",
    "#Ans-\n",
    "\n",
    "def gen_prime(n):\n",
    "    for i in range(n):\n",
    "        if i > 1:\n",
    "            for j in range(2, i + 1):\n",
    "                if i == j:\n",
    "                    yield i\n",
    "                elif i % j == 0:\n",
    "                    break\n",
    "p = gen_prime(1000)\n",
    "for i in range(20):\n",
    "    print(next(p))"
   ]
  },
  {
   "cell_type": "code",
   "execution_count": 17,
   "id": "be529944",
   "metadata": {},
   "outputs": [
    {
     "name": "stdout",
     "output_type": "stream",
     "text": [
      "0\n",
      "1\n",
      "1\n",
      "2\n",
      "3\n",
      "5\n",
      "8\n",
      "13\n",
      "21\n",
      "34\n"
     ]
    }
   ],
   "source": [
    "\"\"\"\n",
    "Q6. Write a python program to print the first 10 Fibonacci numbers using a while loop.\n",
    "\"\"\"\n",
    "\n",
    "#Ans- \n",
    "i = 0\n",
    "j = 0\n",
    "k = 1\n",
    "while i < 10:\n",
    "    if i < 2:\n",
    "        print(i)\n",
    "    else:\n",
    "        n = j + k\n",
    "        j = k\n",
    "        k = n\n",
    "        print(n)\n",
    "    i=i+1\n"
   ]
  },
  {
   "cell_type": "code",
   "execution_count": 49,
   "id": "3b6a4bf5",
   "metadata": {},
   "outputs": [
    {
     "name": "stdout",
     "output_type": "stream",
     "text": [
      "['p', 'w', 's', 'k', 'i', 'l', 'l', 's']\n"
     ]
    }
   ],
   "source": [
    "\"\"\"\n",
    "Q7. Write a List Comprehension to iterate through the given string: ‘pwskills’.\n",
    "Expected output: ['p', 'w', 's', 'k', 'i', 'l', 'l', 's']\n",
    "\"\"\"\n",
    "\n",
    "#Ans - \n",
    "newlist = [x for x in \"pwskills\"]\n",
    "print(newlist)"
   ]
  },
  {
   "cell_type": "code",
   "execution_count": 46,
   "id": "1471fb30",
   "metadata": {},
   "outputs": [
    {
     "data": {
      "text/plain": [
       "True"
      ]
     },
     "execution_count": 46,
     "metadata": {},
     "output_type": "execute_result"
    }
   ],
   "source": [
    "\"\"\"\n",
    "Q8. Write a python program to check whether a given number is Palindrome or not using a while loop.\n",
    "\"\"\"\n",
    "\n",
    "#Ans-\n",
    "\n",
    "def check_palindrome(a):\n",
    "    a_list = list(str(a))\n",
    "    a_list.reverse()\n",
    "    a_str = \"\"\n",
    "    for i in a_list:\n",
    "        a_str += i\n",
    "    if a == int(a_str):\n",
    "        return True\n",
    "    else:\n",
    "        return False\n",
    "    \n",
    "check_palindrome(131)\n",
    "    "
   ]
  },
  {
   "cell_type": "code",
   "execution_count": 50,
   "id": "40f354da",
   "metadata": {},
   "outputs": [
    {
     "name": "stdout",
     "output_type": "stream",
     "text": [
      "[1, 3, 5, 7, 9, 11, 13, 15, 17, 19, 21, 23, 25, 27, 29, 31, 33, 35, 37, 39, 41, 43, 45, 47, 49, 51, 53, 55, 57, 59, 61, 63, 65, 67, 69, 71, 73, 75, 77, 79, 81, 83, 85, 87, 89, 91, 93, 95, 97, 99]\n"
     ]
    }
   ],
   "source": [
    "\"\"\"\n",
    "Q9. Write a code to print odd numbers from 1 to 100 using list comprehension.\n",
    "\n",
    "\"\"\"\n",
    "\n",
    "#Ans-\n",
    "\n",
    "print([x for x in range(1, 101) if x % 2 == 1])"
   ]
  },
  {
   "cell_type": "code",
   "execution_count": null,
   "id": "221c0b37",
   "metadata": {},
   "outputs": [],
   "source": []
  }
 ],
 "metadata": {
  "kernelspec": {
   "display_name": "Python 3 (ipykernel)",
   "language": "python",
   "name": "python3"
  },
  "language_info": {
   "codemirror_mode": {
    "name": "ipython",
    "version": 3
   },
   "file_extension": ".py",
   "mimetype": "text/x-python",
   "name": "python",
   "nbconvert_exporter": "python",
   "pygments_lexer": "ipython3",
   "version": "3.11.4"
  }
 },
 "nbformat": 4,
 "nbformat_minor": 5
}
